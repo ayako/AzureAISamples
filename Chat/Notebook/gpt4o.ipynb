{
 "cells": [
  {
   "cell_type": "code",
   "execution_count": 1,
   "metadata": {},
   "outputs": [],
   "source": [
    "from openai import AzureOpenAI"
   ]
  },
  {
   "cell_type": "code",
   "execution_count": 2,
   "metadata": {},
   "outputs": [],
   "source": [
    "# Azure OpenAIのエンドポイント(URL),Azure OpenAIのAPIキー を設定\n",
    "\n",
    "client = AzureOpenAI(\n",
    "    azure_endpoint=\"https://YOUR_SERVICE_NAME.openai.azure.com/\",\n",
    "    api_key=\"YOUR_API_KEY\",\n",
    "    api_version=\"2024-02-01\",\n",
    ")"
   ]
  },
  {
   "cell_type": "code",
   "execution_count": 3,
   "metadata": {},
   "outputs": [
    {
     "name": "stdout",
     "output_type": "stream",
     "text": [
      "クレジットカードを持つ利点は以下の通りです：\n",
      "\n",
      "1. **利便性**：現金を持ち歩かなくても支払いができる。\n",
      "2. **ポイントやキャッシュバック**：利用金額に応じてポイントやキャッシュバックが得られる。\n",
      "3. **分割払い・リボ払い**：大きな支出を分割して支払うことができる。\n",
      "4. **緊急時の資金調達**：急な出費に対応できる。\n",
      "5. **購入保護**：盗難や破損時の補償がある場合がある。\n",
      "6. **信用履歴の構築**：適切な利用で信用スコアが向上する。\n",
      "\n",
      "これらの利点を活かすためには、計画的な利用が重要です。\n"
     ]
    }
   ],
   "source": [
    "# GPTモデルのデプロイ名前を設定\n",
    "GPT_MODEL = \"gpt-4o\"\n",
    "\n",
    "\n",
    "SYSTEM_MSG = \"あなたは優秀なアシスタントです。ユーザーの質問に親切に簡潔に回答します\"\n",
    "USER_IMPUT = \"クレジットカードを持つ利点を教えてください\"\n",
    "\n",
    "message_array = [\n",
    "    {\n",
    "        \"role\": \"system\",\n",
    "        \"content\": SYSTEM_MSG,\n",
    "    },\n",
    "    {\n",
    "        \"role\": \"user\",\n",
    "        \"content\": USER_IMPUT,\n",
    "    }\n",
    "]\n",
    "\n",
    "completion = client.chat.completions.create(\n",
    "    model=GPT_MODEL,\n",
    "    messages=message_array,\n",
    "    temperature=0.7,\n",
    ")\n",
    "\n",
    "response = completion.choices[0].message.content\n",
    "print(response)"
   ]
  },
  {
   "cell_type": "code",
   "execution_count": 4,
   "metadata": {},
   "outputs": [
    {
     "name": "stdout",
     "output_type": "stream",
     "text": [
      "[{'role': 'system', 'content': 'あなたは優秀なアシスタントです。ユーザーの質問に親切に簡潔に回答します'}, {'role': 'user', 'content': 'クレジットカードを持つ利点を教えてください'}, {'role': 'assistant', 'content': 'クレジットカードを持つ利点は以下の通りです：\\n\\n1. **利便性**：現金を持ち歩かなくても支払いができる。\\n2. **ポイントやキャッシュバック**：利用金額に応じてポイントやキャッシュバックが得られる。\\n3. **分割払い・リボ払い**：大きな支出を分割して支払うことができる。\\n4. **緊急時の資金調達**：急な出費に対応できる。\\n5. **購入保護**：盗難や破損時の補償がある場合がある。\\n6. **信用履歴の構築**：適切な利用で信用スコアが向上する。\\n\\nこれらの利点を活かすためには、計画的な利用が重要です。'}, {'role': 'user', 'content': '英語でお願いします'}]\n"
     ]
    }
   ],
   "source": [
    "# 過去履歴と質問を追加\n",
    "USER_IMPUT2 = \"英語でお願いします\"\n",
    "\n",
    "message_array.append({\"role\": \"assistant\", \"content\": response})\n",
    "message_array.append({\"role\": \"user\", \"content\": USER_IMPUT2})\n",
    "\n",
    "print(message_array)"
   ]
  },
  {
   "cell_type": "code",
   "execution_count": 5,
   "metadata": {},
   "outputs": [
    {
     "name": "stdout",
     "output_type": "stream",
     "text": [
      "Certainly! Here are the benefits of having a credit card:\n",
      "\n",
      "1. **Convenience**: You can make payments without carrying cash.\n",
      "2. **Rewards and Cashback**: Earn points or cashback based on your spending.\n",
      "3. **Installment and Revolving Payments**: Spread out large expenses over time.\n",
      "4. **Emergency Funds**: Access to funds in case of unexpected expenses.\n",
      "5. **Purchase Protection**: Coverage for theft or damage in some cases.\n",
      "6. **Building Credit History**: Proper use can improve your credit score.\n",
      "\n",
      "To maximize these benefits, it's important to use credit responsibly.\n"
     ]
    }
   ],
   "source": [
    "completion = client.chat.completions.create(\n",
    "    model=GPT_MODEL,\n",
    "    messages=message_array,\n",
    "    temperature=0.7,\n",
    ")\n",
    "\n",
    "response = completion.choices[0].message.content\n",
    "print(response)"
   ]
  }
 ],
 "metadata": {
  "kernelspec": {
   "display_name": "Python 3",
   "language": "python",
   "name": "python3"
  },
  "language_info": {
   "codemirror_mode": {
    "name": "ipython",
    "version": 3
   },
   "file_extension": ".py",
   "mimetype": "text/x-python",
   "name": "python",
   "nbconvert_exporter": "python",
   "pygments_lexer": "ipython3",
   "version": "3.11.9"
  }
 },
 "nbformat": 4,
 "nbformat_minor": 2
}
